{
 "cells": [
  {
   "cell_type": "markdown",
   "metadata": {},
   "source": [
    "# Web Scraping Lab\n",
    "\n",
    "You will find in this notebook some scrapy exercises to practise your scraping skills.\n",
    "\n",
    "**Tips:**\n",
    "\n",
    "- Check the response status code for each request to ensure you have obtained the intended contennt.\n",
    "- Print the response text in each request to understand the kind of info you are getting and its format.\n",
    "- Check for patterns in the response text to extract the data/info requested in each question.\n",
    "- Visit each url and take a look at its source through Chrome DevTools. You'll need to identify the html tags, special class names etc. used for the html content you are expected to extract."
   ]
  },
  {
   "cell_type": "markdown",
   "metadata": {},
   "source": [
    "- [Requests library](http://docs.python-requests.org/en/master/#the-user-guide) documentation \n",
    "- [Beautiful Soup Doc](https://www.crummy.com/software/BeautifulSoup/bs4/doc/)\n",
    "- [Urllib](https://docs.python.org/3/library/urllib.html#module-urllib)\n",
    "- [re lib](https://docs.python.org/3/library/re.html)\n",
    "- [lxml lib](https://lxml.de/)\n",
    "- [Scrapy](https://scrapy.org/)\n",
    "- [List of HTTP status codes](https://en.wikipedia.org/wiki/List_of_HTTP_status_codes)\n",
    "- [HTML basics](http://www.simplehtmlguide.com/cheatsheet.php)\n",
    "- [CSS basics](https://www.cssbasics.com/#page_start)"
   ]
  },
  {
   "cell_type": "markdown",
   "metadata": {},
   "source": [
    "#### Below are the libraries and modules you may need. `requests`,  `BeautifulSoup` and `pandas` are imported for you. If you prefer to use additional libraries feel free to uncomment them."
   ]
  },
  {
   "cell_type": "code",
   "execution_count": 1,
   "metadata": {},
   "outputs": [],
   "source": [
    "import requests\n",
    "from bs4 import BeautifulSoup\n",
    "import pandas as pd\n",
    "# from pprint import pprint\n",
    "# from lxml import html\n",
    "# from lxml.html import fromstring\n",
    "# import urllib.request\n",
    "# from urllib.request import urlopen\n",
    "# import random\n",
    "# import re\n",
    "# import scrapy"
   ]
  },
  {
   "cell_type": "markdown",
   "metadata": {},
   "source": [
    "#### 1 Download, parse (using BeautifulSoup), and print the content from the Trending Developers page from GitHub:"
   ]
  },
  {
   "cell_type": "code",
   "execution_count": 2,
   "metadata": {},
   "outputs": [],
   "source": [
    "# This is the url you will scrape in this exercise\n",
    "url = 'https://github.com/trending/developers'\n",
    "res = requests.get(url)\n",
    "soup = BeautifulSoup(res.text, 'html.parser')"
   ]
  },
  {
   "cell_type": "markdown",
   "metadata": {},
   "source": [
    "#### Display the names of the trending developers retrieved in the previous step.\n",
    "\n",
    "Your output should be a Python list of developer names. Each name should not contain any html tag.\n",
    "\n",
    "**Instructions:**\n",
    "\n",
    "1. Find out the html tag and class names used for the developer names. You can achieve this using Chrome DevTools.\n",
    "\n",
    "1. Use BeautifulSoup to extract all the html elements that contain the developer names.\n",
    "\n",
    "1. Use string manipulation techniques to replace whitespaces and linebreaks (i.e. `\\n`) in the *text* of each html element. Use a list to store the clean names.\n",
    "\n",
    "1. Print the list of names.\n",
    "\n",
    "Your output should look like below:\n",
    "\n",
    "```\n",
    "['trimstray (@trimstray)',\n",
    " 'joewalnes (JoeWalnes)',\n",
    " 'charlax (Charles-AxelDein)',\n",
    " 'ForrestKnight (ForrestKnight)',\n",
    " 'revery-ui (revery-ui)',\n",
    " 'alibaba (Alibaba)',\n",
    " 'Microsoft (Microsoft)',\n",
    " 'github (GitHub)',\n",
    " 'facebook (Facebook)',\n",
    " 'boazsegev (Bo)',\n",
    " 'google (Google)',\n",
    " 'cloudfetch',\n",
    " 'sindresorhus (SindreSorhus)',\n",
    " 'tensorflow',\n",
    " 'apache (TheApacheSoftwareFoundation)',\n",
    " 'DevonCrawford (DevonCrawford)',\n",
    " 'ARMmbed (ArmMbed)',\n",
    " 'vuejs (vuejs)',\n",
    " 'fastai (fast.ai)',\n",
    " 'QiShaoXuan (Qi)',\n",
    " 'joelparkerhenderson (JoelParkerHenderson)',\n",
    " 'torvalds (LinusTorvalds)',\n",
    " 'CyC2018',\n",
    " 'komeiji-satori (神楽坂覚々)',\n",
    " 'script-8']\n",
    " ```"
   ]
  },
  {
   "cell_type": "code",
   "execution_count": 3,
   "metadata": {},
   "outputs": [
    {
     "data": {
      "text/plain": [
       "['William Candillon (wcandillon)',\n",
       " 'Han Xiao (hanxiao)',\n",
       " 'Arvid Norberg (arvidn)',\n",
       " 'Franck Nijhof (frenck)',\n",
       " 'Javier Suárez (jsuarezruiz)',\n",
       " 'Manfred Touron (moul)',\n",
       " 'Rob Norris (tpolecat)',\n",
       " 'Chocobozzz (evereq)',\n",
       " 'Ruslan Konviser (ericniebler)',\n",
       " 'Eric Niebler (mingrammer)',\n",
       " 'MinJae Kwon (caarlos0)',\n",
       " 'Carlos Alexandro Becker (taylorotwell)',\n",
       " 'Taylor Otwell (FredKSchott)',\n",
       " 'Fred K. Schott (rigor789)',\n",
       " 'Igor Randjelovic (tgross)',\n",
       " 'Tim Gross (fonsp)',\n",
       " 'Fons van der Plas (rix0rrr)',\n",
       " 'Rico Huijbers (zkochan)',\n",
       " 'Zoltan Kochan (benoitc)',\n",
       " 'Benoit Chesneau (kazuho)',\n",
       " 'Kazuho Oku (InventingWithMonster)',\n",
       " 'Matt Perry (jakearchibald)',\n",
       " 'Jake Archibald (tommoor)',\n",
       " 'Tom Moor (wasabeef)']"
      ]
     },
     "execution_count": 3,
     "metadata": {},
     "output_type": "execute_result"
    }
   ],
   "source": [
    "#your code\n",
    "tag=soup.select('h1.h3 a[href]')\n",
    "tag2=soup.select(\"p.f4 a[href]\")\n",
    "\n",
    "name=[x.text.strip() for x in tag]\n",
    "nick=[x.text.strip() for x in tag2]\n",
    "l=list(zip(name,nick))\n",
    "trend=[f'{i[0]} ({i[1]})' for i in l ]\n",
    "trend"
   ]
  },
  {
   "cell_type": "markdown",
   "metadata": {},
   "source": [
    "### 2 Display the trending Python repositories in GitHub\n",
    "\n",
    "The steps to solve this problem is similar to the previous one except that you need to find out the repository names instead of developer names."
   ]
  },
  {
   "cell_type": "code",
   "execution_count": 4,
   "metadata": {},
   "outputs": [],
   "source": [
    "url = 'https://github.com/trending/python?since=daily'\n",
    "res = requests.get(url)\n",
    "soup = BeautifulSoup(res.text, 'html.parser')"
   ]
  },
  {
   "cell_type": "code",
   "execution_count": 5,
   "metadata": {},
   "outputs": [
    {
     "data": {
      "text/plain": [
       "['mingrammer (diagrams)',\n",
       " 'PyTorchLightning (pytorch-lightning)',\n",
       " 'scikit-learn (scikit-learn)',\n",
       " 'baowenbo (DAIN)',\n",
       " 'Rudrabha (Wav2Lip)',\n",
       " 'blacklanternsecurity (TREVORspray)',\n",
       " 'facebookresearch (detectron2)',\n",
       " 'vaastav (Fantasy-Premier-League)',\n",
       " 'huangsam (ultimate-python)',\n",
       " 'kangvcar (InfoSpider)',\n",
       " 'sowdust (tafferugli)',\n",
       " 'celery (celery)',\n",
       " 'huggingface (transformers)',\n",
       " 'fighting41love (funNLP)',\n",
       " 'Kr1s77 (awesome-python-login-model)',\n",
       " 'iGhibli (iOS-DeviceSupport)',\n",
       " 'home-assistant (core)',\n",
       " 'MobSF (Mobile-Security-Framework-MobSF)',\n",
       " 'geekcomputers (Python)',\n",
       " 'tzutalin (labelImg)',\n",
       " 'sunainapai (makesite)',\n",
       " 'aristocratos (bpytop)',\n",
       " 'richzhang (PerceptualSimilarity)',\n",
       " 'apache (incubator-tvm)',\n",
       " 'RasaHQ (rasa)']"
      ]
     },
     "execution_count": 5,
     "metadata": {},
     "output_type": "execute_result"
    }
   ],
   "source": [
    "tag=soup.select('h1.h3 a[href]')\n",
    "l=[x.text.strip() for x in tag]\n",
    "lista=[x.split(\" /\\n\\n      \") for x in l]\n",
    "reposit=[f'{i[0]} ({i[1]})' for i in lista ]\n",
    "reposit"
   ]
  },
  {
   "cell_type": "markdown",
   "metadata": {},
   "source": [
    "#### 3 Display all the image links from Walt Disney wikipedia page"
   ]
  },
  {
   "cell_type": "code",
   "execution_count": 6,
   "metadata": {},
   "outputs": [],
   "source": [
    "url = 'https://en.wikipedia.org/wiki/Walt_Disney'\n",
    "res = requests.get(url)\n",
    "soup = BeautifulSoup(res.text, 'html.parser')"
   ]
  },
  {
   "cell_type": "code",
   "execution_count": 7,
   "metadata": {},
   "outputs": [],
   "source": [
    "#your code\n",
    "tag=soup.select('[src]')\n",
    "tag[0].attrs[\"src\"]\n",
    "linksWD=[i.attrs[\"src\"] for i in tag]\n",
    "#linksWD"
   ]
  },
  {
   "cell_type": "markdown",
   "metadata": {},
   "source": [
    "#### 4 Retrieve an arbitary Wikipedia page of \"Python\" and create a list of links on that page"
   ]
  },
  {
   "cell_type": "code",
   "execution_count": 8,
   "metadata": {},
   "outputs": [],
   "source": [
    "# This is the url you will scrape in this exercise\n",
    "url ='https://en.wikipedia.org/wiki/Python' \n",
    "res = requests.get(url)\n",
    "soup = BeautifulSoup(res.text, 'html.parser')"
   ]
  },
  {
   "cell_type": "code",
   "execution_count": 9,
   "metadata": {},
   "outputs": [],
   "source": [
    "#your code\n",
    "tag=soup.select('a[href]')\n",
    "links_python=[x.attrs['href'] for x in tag]\n",
    "#links_python"
   ]
  },
  {
   "cell_type": "markdown",
   "metadata": {},
   "source": [
    "#### 5 Number of Titles that have changed in the United States Code since its last release point "
   ]
  },
  {
   "cell_type": "code",
   "execution_count": 10,
   "metadata": {},
   "outputs": [],
   "source": [
    "# This is the url you will scrape in this exercise\n",
    "url = 'http://uscode.house.gov/download/download.shtml'\n",
    "res = requests.get(url)\n",
    "soup = BeautifulSoup(res.text, 'html.parser')"
   ]
  },
  {
   "cell_type": "code",
   "execution_count": 11,
   "metadata": {},
   "outputs": [
    {
     "data": {
      "text/plain": [
       "3"
      ]
     },
     "execution_count": 11,
     "metadata": {},
     "output_type": "execute_result"
    }
   ],
   "source": [
    "#your code\n",
    "tag=soup.select('div[class=usctitlechanged]')\n",
    "l=tag\n",
    "len(l)"
   ]
  },
  {
   "cell_type": "markdown",
   "metadata": {},
   "source": [
    "#### 6 A Python list with the top ten FBI's Most Wanted names "
   ]
  },
  {
   "cell_type": "code",
   "execution_count": 12,
   "metadata": {},
   "outputs": [],
   "source": [
    "# This is the url you will scrape in this exercise\n",
    "url = 'https://www.fbi.gov/wanted/topten'\n",
    "res = requests.get(url)\n",
    "soup = BeautifulSoup(res.text, 'html.parser')"
   ]
  },
  {
   "cell_type": "code",
   "execution_count": 13,
   "metadata": {},
   "outputs": [
    {
     "data": {
      "text/plain": [
       "['ARNOLDO JIMENEZ',\n",
       " 'JASON DEREK BROWN',\n",
       " 'YASER ABDEL SAID',\n",
       " 'ALEXIS FLORES',\n",
       " 'EUGENE PALMER',\n",
       " 'RAFAEL CARO-QUINTERO',\n",
       " 'ROBERT WILLIAM FISHER',\n",
       " 'BHADRESHKUMAR CHETANBHAI PATEL',\n",
       " 'ALEJANDRO ROSALES CASTILLO',\n",
       " 'SANTIAGO VILLALBA MEDEROS']"
      ]
     },
     "execution_count": 13,
     "metadata": {},
     "output_type": "execute_result"
    }
   ],
   "source": [
    "#your code \n",
    "tag=soup.select('h3')\n",
    "mostwanted=[x.text.strip() for x in tag]\n",
    "mostwanted"
   ]
  },
  {
   "cell_type": "markdown",
   "metadata": {},
   "source": [
    "#### 7.  20 latest earthquakes info (date, time, latitude, longitude and region name) by the EMSC as a pandas dataframe"
   ]
  },
  {
   "cell_type": "code",
   "execution_count": 14,
   "metadata": {},
   "outputs": [],
   "source": [
    "# This is the url you will scrape in this exercise\n",
    "url = 'https://www.emsc-csem.org/Earthquake/'\n",
    "res = requests.get(url)\n",
    "soup = BeautifulSoup(res.text, 'html.parser')"
   ]
  },
  {
   "cell_type": "code",
   "execution_count": null,
   "metadata": {},
   "outputs": [],
   "source": [
    "#your code\n",
    "def textstr(tag):\n",
    "    lista=[]\n",
    "    for i in tag:\n",
    "         lista.append(i.text.strip())\n",
    "    return lista\n",
    "    \n",
    "def textspli(tag,splt):\n",
    "    for i in tag:\n",
    "        return i.text.split(splt)\n",
    "    \n",
    "tag=soup.select(\"b\")\n",
    "date_time=[x.text.split(\"\\xa0\\xa0\\xa0\") for x in tag]\n",
    "l=[\" \".join(x) for x in l][:21]\n",
    "latitud=soup.select(\"td[class=tabev1], td[class=tabev2]\")\n",
    "latiturd=textstr(tag)\n",
    "#latitud=textstr(latitud)\n",
    "latitud\n",
    "\n"
   ]
  },
  {
   "cell_type": "markdown",
   "metadata": {},
   "source": [
    "#### 8  Display the date, days, title, city, country of next 25 hackathon events as a Pandas dataframe table"
   ]
  },
  {
   "cell_type": "code",
   "execution_count": 22,
   "metadata": {},
   "outputs": [],
   "source": [
    "# This is the url you will scrape in this exercise\n",
    "url ='https://hackevents.co/hackathons'\n"
   ]
  },
  {
   "cell_type": "code",
   "execution_count": null,
   "metadata": {},
   "outputs": [],
   "source": [
    "#your code\n"
   ]
  },
  {
   "cell_type": "markdown",
   "metadata": {},
   "source": [
    "#### 9 Count number of tweets by a given Twitter account."
   ]
  },
  {
   "cell_type": "markdown",
   "metadata": {},
   "source": [
    "You will need to include a ***try/except block*** for account names not found. \n",
    "<br>***Hint:*** the program should count the number of tweets for any provided account"
   ]
  },
  {
   "cell_type": "code",
   "execution_count": 99,
   "metadata": {},
   "outputs": [],
   "source": [
    "# This is the url you will scrape in this exercise \n",
    "# You will need to add the account credentials to this url\n",
    "url = 'https://mobile.twitter.com/qhardy'\n",
    "res = requests.get(url)\n",
    "soup = BeautifulSoup(res.text, 'html.parser')"
   ]
  },
  {
   "cell_type": "code",
   "execution_count": 131,
   "metadata": {},
   "outputs": [
    {
     "name": "stdout",
     "output_type": "stream",
     "text": [
      "[<div class=\"statnum\">84,922</div>, <div class=\"statlabel\"> Tweets </div>]\n"
     ]
    }
   ],
   "source": [
    "#your code\n",
    "\n",
    "try:\n",
    "    tweet_box = soup.select('[class=statnum],[class=statlabel]')\n",
    "    tweet_box1=textstr(tweet_box)\n",
    "    print(text_box1[0:2])\n",
    "except:\n",
    "    l=tweet_box[0:2]\n",
    "    print(l)\n"
   ]
  },
  {
   "cell_type": "markdown",
   "metadata": {},
   "source": [
    "# Number of followers of a given twitter account"
   ]
  },
  {
   "cell_type": "markdown",
   "metadata": {},
   "source": [
    "You will need to include a ***try/except block*** in case account/s name not found. \n",
    "<br>***Hint:*** the program should count the followers for any provided account"
   ]
  },
  {
   "cell_type": "code",
   "execution_count": null,
   "metadata": {},
   "outputs": [],
   "source": [
    "# This is the url you will scrape in this exercise \n",
    "# You will need to add the account credentials to this url\n",
    "url = 'https://twitter.com/'"
   ]
  },
  {
   "cell_type": "code",
   "execution_count": 147,
   "metadata": {},
   "outputs": [
    {
     "name": "stdout",
     "output_type": "stream",
     "text": [
      "[<div class=\"statnum\">38,193</div>, <div class=\"statlabel\"> Followers </div>]\n"
     ]
    }
   ],
   "source": [
    "#your code\n",
    "try:\n",
    "    tweet_box = soup.select('[class=statnum],[class=statlabel]')\n",
    "    tweet_box1=textstr(tweet_box)\n",
    "    print(text_box1[5:])\n",
    "except:\n",
    "    l=tweet_box[4:]\n",
    "    print(l)"
   ]
  },
  {
   "cell_type": "markdown",
   "metadata": {},
   "source": [
    "#### 10.  List all language names and number of related articles in the order they appear in wikipedia.org"
   ]
  },
  {
   "cell_type": "code",
   "execution_count": 148,
   "metadata": {},
   "outputs": [],
   "source": [
    "# This is the url you will scrape in this exercise\n",
    "url = 'https://www.wikipedia.org/'\n",
    "res = requests.get(url)\n",
    "soup = BeautifulSoup(res.text, 'html.parser')"
   ]
  },
  {
   "cell_type": "code",
   "execution_count": 188,
   "metadata": {},
   "outputs": [
    {
     "data": {
      "text/plain": [
       "['English',\n",
       " 'æ\\x97¥æ\\x9c¬èª\\x9e',\n",
       " 'EspaÃ±ol',\n",
       " 'Deutsch',\n",
       " 'FranÃ§ais',\n",
       " 'Ð\\xa0Ñ\\x83Ñ\\x81Ñ\\x81ÐºÐ¸Ð¹',\n",
       " 'Italiano',\n",
       " 'ä¸\\xadæ\\x96\\x87',\n",
       " 'PortuguÃªs',\n",
       " 'Polski']"
      ]
     },
     "execution_count": 188,
     "metadata": {},
     "output_type": "execute_result"
    }
   ],
   "source": [
    "#your code\n",
    "tag=soup.select('strong')\n",
    "lista=[]\n",
    "for i in tag:\n",
    "    if len(i.attrs)==0:\n",
    "        lista.append(i.text)\n",
    "lista     \n",
    "# what?😩😩"
   ]
  },
  {
   "cell_type": "markdown",
   "metadata": {},
   "source": [
    "#### A list with the different kind of datasets available in data.gov.uk "
   ]
  },
  {
   "cell_type": "code",
   "execution_count": 189,
   "metadata": {},
   "outputs": [],
   "source": [
    "# This is the url you will scrape in this exercise\n",
    "url = 'https://data.gov.uk/'\n",
    "res = requests.get(url)\n",
    "soup = BeautifulSoup(res.text, 'html.parser')"
   ]
  },
  {
   "cell_type": "code",
   "execution_count": 193,
   "metadata": {},
   "outputs": [
    {
     "data": {
      "text/plain": [
       "['Business and economy',\n",
       " 'Crime and justice',\n",
       " 'Defence',\n",
       " 'Education',\n",
       " 'Environment',\n",
       " 'Government',\n",
       " 'Government spending',\n",
       " 'Health',\n",
       " 'Mapping',\n",
       " 'Society',\n",
       " 'Towns and cities',\n",
       " 'Transport']"
      ]
     },
     "execution_count": 193,
     "metadata": {},
     "output_type": "execute_result"
    }
   ],
   "source": [
    "#your code \n",
    "tag=soup.select('h3')\n",
    "lista=[x.text for x in tag]\n",
    "lista"
   ]
  },
  {
   "cell_type": "markdown",
   "metadata": {},
   "source": [
    "#### Top 10 languages by number of native speakers stored in a Pandas Dataframe"
   ]
  },
  {
   "cell_type": "code",
   "execution_count": 221,
   "metadata": {},
   "outputs": [],
   "source": [
    "# This is the url you will scrape in this exercise\n",
    "url = 'https://en.wikipedia.org/wiki/List_of_languages_by_number_of_native_speakers'\n",
    "res = requests.get(url)\n",
    "soup = BeautifulSoup(res.text, 'html.parser')"
   ]
  },
  {
   "cell_type": "code",
   "execution_count": 250,
   "metadata": {},
   "outputs": [
    {
     "name": "stdout",
     "output_type": "stream",
     "text": [
      "(0, 'Mandarin Chinese')\n",
      "(1, 'Sino-Tibetan')\n",
      "(2, 'Sinitic')\n",
      "(3, 'Spanish')\n",
      "(4, 'Indo-European')\n",
      "(5, 'Romance')\n",
      "(6, 'English')\n",
      "(7, 'Indo-European')\n",
      "(8, 'Germanic')\n",
      "(9, 'Hindi')\n",
      "(10, 'Hindustani')\n",
      "(11, '[9]')\n",
      "(12, 'Indo-European')\n",
      "(13, 'Indo-Aryan')\n",
      "(14, 'Bengali')\n",
      "(15, 'Indo-European')\n",
      "(16, 'Indo-Aryan')\n",
      "(17, 'Portuguese')\n",
      "(18, 'Indo-European')\n",
      "(19, 'Romance')\n",
      "(20, 'Russian')\n",
      "(21, 'Indo-European')\n",
      "(22, 'Balto-Slavic')\n",
      "(23, 'Japanese')\n",
      "(24, 'Japonic')\n",
      "(25, 'Japanese')\n",
      "(26, 'Western Punjabi')\n",
      "(27, '[10]')\n",
      "(28, 'Indo-European')\n",
      "(29, 'Indo-Aryan')\n",
      "(30, 'Marathi')\n",
      "(31, 'Indo-European')\n",
      "(32, 'Indo-Aryan')\n",
      "(33, 'Telugu')\n",
      "(34, 'Dravidian')\n",
      "(35, 'South-Central')\n",
      "(36, 'Wu Chinese')\n",
      "(37, 'Sino-Tibetan')\n",
      "(38, 'Sinitic')\n",
      "(39, 'Turkish')\n",
      "(40, 'Turkic')\n",
      "(41, 'Oghuz')\n",
      "(42, 'Korean')\n",
      "(43, 'Koreanic')\n",
      "(44, 'language isolate')\n",
      "(45, 'French')\n",
      "(46, 'Indo-European')\n",
      "(47, 'Romance')\n",
      "(48, 'German')\n",
      "(49, 'Indo-European')\n",
      "(50, 'Germanic')\n",
      "(51, 'Vietnamese')\n",
      "(52, 'Austroasiatic')\n",
      "(53, 'Vietic')\n",
      "(54, 'Tamil')\n",
      "(55, 'Dravidian')\n",
      "(56, 'South')\n",
      "(57, 'Yue Chinese')\n",
      "(58, 'Sino-Tibetan')\n",
      "(59, 'Sinitic')\n",
      "(60, 'Urdu')\n",
      "(61, 'Hindustani')\n",
      "(62, '[9]')\n",
      "(63, 'Indo-European')\n",
      "(64, 'Indo-Aryan')\n",
      "(65, 'Javanese')\n",
      "(66, 'Austronesian')\n",
      "(67, 'Malayo-Polynesian')\n",
      "(68, 'Italian')\n",
      "(69, 'Indo-European')\n",
      "(70, 'Romance')\n",
      "(71, 'Egyptian Arabic')\n",
      "(72, 'Afroasiatic')\n",
      "(73, 'Semitic')\n",
      "(74, 'Gujarati')\n",
      "(75, 'Indo-European')\n",
      "(76, 'Indo-Aryan')\n",
      "(77, 'Iranian Persian')\n",
      "(78, 'Indo-European')\n",
      "(79, 'Iranian')\n",
      "(80, 'Bhojpuri')\n",
      "(81, 'Indo-European')\n",
      "(82, 'Indo-Aryan')\n",
      "(83, 'Min Nan Chinese')\n",
      "(84, 'Sino-Tibetan')\n",
      "(85, 'Sinitic')\n",
      "(86, 'Hakka Chinese')\n",
      "(87, 'Sino-Tibetan')\n",
      "(88, 'Sinitic')\n",
      "(89, 'Jin Chinese')\n",
      "(90, 'Sino-Tibetan')\n",
      "(91, 'Sinitic')\n",
      "(92, 'Hausa')\n",
      "(93, 'Afroasiatic')\n",
      "(94, 'Chadic')\n",
      "(95, 'Kannada')\n",
      "(96, 'Dravidian')\n",
      "(97, 'South')\n",
      "(98, 'Indonesian')\n",
      "(99, 'Malay')\n",
      "(100, 'Austronesian')\n",
      "(101, 'Malayo-Polynesian')\n",
      "(102, 'Polish')\n",
      "(103, 'Indo-European')\n",
      "(104, 'Balto-Slavic')\n",
      "(105, 'Yoruba')\n",
      "(106, 'Niger–Congo')\n",
      "(107, 'Volta–Niger')\n",
      "(108, 'Xiang Chinese')\n",
      "(109, 'Sino-Tibetan')\n",
      "(110, 'Sinitic')\n",
      "(111, 'Malayalam')\n",
      "(112, 'Dravidian')\n",
      "(113, 'South')\n",
      "(114, 'Odia')\n",
      "(115, 'Indo-European')\n",
      "(116, 'Indo-Aryan')\n",
      "(117, 'Maithili')\n",
      "(118, 'Indo-European')\n",
      "(119, 'Indo-Aryan')\n",
      "(120, 'Burmese')\n",
      "(121, 'Sino-Tibetan')\n",
      "(122, 'Lolo-Burmese')\n",
      "(123, 'Eastern Punjabi')\n",
      "(124, '[10]')\n",
      "(125, 'Indo-European')\n",
      "(126, 'Indo-Aryan')\n",
      "(127, 'Sunda')\n",
      "(128, 'Austronesian')\n",
      "(129, 'Malayo-Polynesian')\n",
      "(130, 'Sudanese Arabic')\n",
      "(131, 'Afroasiatic')\n",
      "(132, 'Semitic')\n",
      "(133, 'Algerian Arabic')\n",
      "(134, 'Afroasiatic')\n",
      "(135, 'Semitic')\n",
      "(136, 'Moroccan Arabic')\n",
      "(137, 'Afroasiatic')\n",
      "(138, 'Semitic')\n",
      "(139, 'Ukrainian')\n",
      "(140, 'Indo-European')\n",
      "(141, 'Balto-Slavic')\n",
      "(142, 'Igbo')\n",
      "(143, 'Niger–Congo')\n",
      "(144, 'Volta–Niger')\n",
      "(145, 'Northern Uzbek')\n",
      "(146, 'Turkic')\n",
      "(147, 'Karluk')\n",
      "(148, 'Sindhi')\n",
      "(149, 'Indo-European')\n",
      "(150, 'Indo-Aryan')\n",
      "(151, 'North Levantine Arabic')\n",
      "(152, 'Afroasiatic')\n",
      "(153, 'Semitic')\n",
      "(154, 'Romanian')\n",
      "(155, 'Indo-European')\n",
      "(156, 'Romance')\n",
      "(157, 'Tagalog')\n",
      "(158, 'Austronesian')\n",
      "(159, 'Malayo-Polynesian')\n",
      "(160, 'Dutch')\n",
      "(161, 'Indo-European')\n",
      "(162, 'Germanic')\n",
      "(163, 'Saʽidi Arabic')\n",
      "(164, 'Afroasiatic')\n",
      "(165, 'Semitic')\n",
      "(166, 'Gan Chinese')\n",
      "(167, 'Sino-Tibetan')\n",
      "(168, 'Sinitic')\n",
      "(169, 'Amharic')\n",
      "(170, 'Afroasiatic')\n",
      "(171, 'Semitic')\n",
      "(172, 'Northern Pashto')\n",
      "(173, 'Indo-European')\n",
      "(174, 'Iranian')\n",
      "(175, 'Magahi')\n",
      "(176, 'Indo-European')\n",
      "(177, 'Indo-Aryan')\n",
      "(178, 'Thai')\n",
      "(179, 'Kra–Dai')\n",
      "(180, 'Tai')\n",
      "(181, 'Saraiki')\n",
      "(182, 'Indo-European')\n",
      "(183, 'Indo-Aryan')\n",
      "(184, 'Khmer')\n",
      "(185, 'Austroasiatic')\n",
      "(186, 'Khmer')\n",
      "(187, 'Chhattisgarhi')\n",
      "(188, 'Indo-European')\n",
      "(189, 'Indo-Aryan')\n",
      "(190, 'Somali')\n",
      "(191, 'Afroasiatic')\n",
      "(192, 'Cushitic')\n",
      "(193, 'Malay')\n",
      "(194, 'Malay')\n",
      "(195, 'Austronesian')\n",
      "(196, 'Malayo-Polynesian')\n",
      "(197, 'Cebuano')\n",
      "(198, 'Austronesian')\n",
      "(199, 'Malayo-Polynesian')\n",
      "(200, 'Nepali')\n",
      "(201, 'Indo-European')\n",
      "(202, 'Indo-Aryan')\n",
      "(203, 'Mesopotamian Arabic')\n",
      "(204, 'Afroasiatic')\n",
      "(205, 'Semitic')\n",
      "(206, 'Assamese')\n",
      "(207, 'Indo-European')\n",
      "(208, 'Indo-Aryan')\n",
      "(209, 'Sinhalese')\n",
      "(210, 'Indo-European')\n",
      "(211, 'Indo-Aryan')\n",
      "(212, 'Northern Kurdish')\n",
      "(213, 'Indo-European')\n",
      "(214, 'Iranian')\n",
      "(215, 'Hejazi Arabic')\n",
      "(216, 'Afroasiatic')\n",
      "(217, 'Semitic')\n",
      "(218, 'Nigerian Fulfulde')\n",
      "(219, 'Niger–Congo')\n",
      "(220, 'Senegambian')\n",
      "(221, 'Bavarian')\n",
      "(222, 'Indo-European')\n",
      "(223, 'Germanic')\n",
      "(224, 'South Azerbaijani')\n",
      "(225, 'Turkic')\n",
      "(226, 'Oghuz')\n",
      "(227, 'Greek')\n",
      "(228, 'Indo-European')\n",
      "(229, 'Hellenic')\n",
      "(230, 'Chittagonian')\n",
      "(231, 'Indo-European')\n",
      "(232, 'Indo-Aryan')\n",
      "(233, 'Kazakh')\n",
      "(234, 'Turkic')\n",
      "(235, 'Kipchak')\n",
      "(236, 'Deccan')\n",
      "(237, 'Indo-European')\n",
      "(238, 'Indo-Aryan')\n",
      "(239, 'Hungarian')\n",
      "(240, 'Uralic')\n",
      "(241, 'Ugric')\n",
      "(242, 'Kinyarwanda')\n",
      "(243, 'Niger–Congo')\n",
      "(244, 'Bantu')\n",
      "(245, 'Zulu')\n",
      "(246, 'Niger–Congo')\n",
      "(247, 'Bantu')\n",
      "(248, 'South Levantine Arabic')\n",
      "(249, 'Afroasiatic')\n",
      "(250, 'Semitic')\n",
      "(251, 'Tunisian Arabic')\n",
      "(252, 'Afroasiatic')\n",
      "(253, 'Semitic')\n",
      "(254, 'Sanaani Spoken Arabic')\n",
      "(255, 'Afroasiatic')\n",
      "(256, 'Semitic')\n",
      "(257, 'Min Bei Chinese')\n",
      "(258, 'Sino-Tibetan')\n",
      "(259, 'Sinitic')\n",
      "(260, 'Southern Pashto')\n",
      "(261, 'Indo-European')\n",
      "(262, 'Iranian')\n",
      "(263, 'Rundi')\n",
      "(264, 'Niger–Congo')\n",
      "(265, 'Bantu')\n",
      "(266, 'Czech')\n",
      "(267, 'Indo-European')\n",
      "(268, 'Balto-Slavic')\n",
      "(269, 'Taʽizzi-Adeni Arabic')\n",
      "(270, 'Afroasiatic')\n",
      "(271, 'Semitic')\n",
      "(272, 'Uyghur')\n",
      "(273, 'Turkic')\n",
      "(274, 'Karluk')\n",
      "(275, 'Min Dong Chinese')\n",
      "(276, 'Sino-Tibetan')\n",
      "(277, 'Sinitic')\n",
      "(278, 'Sylheti')\n",
      "(279, 'Indo-European')\n",
      "(280, 'Indo-Aryan')\n"
     ]
    }
   ],
   "source": [
    "tables = soup.find_all(\"table\")\n",
    "languages=tables[0]\n",
    "l=languages.select('a[href]')\n",
    "l=[x.text for x in l]\n",
    "#l.pop(\"[7]\")\n",
    "l=l[2:]\n",
    "l\n",
    "lista=[]\n",
    "for i in enumerate(l):\n",
    "    print(i)"
   ]
  },
  {
   "cell_type": "markdown",
   "metadata": {},
   "source": [
    "### BONUS QUESTIONS"
   ]
  },
  {
   "cell_type": "markdown",
   "metadata": {},
   "source": [
    "#### Scrape a certain number of tweets of a given Twitter account."
   ]
  },
  {
   "cell_type": "code",
   "execution_count": null,
   "metadata": {},
   "outputs": [],
   "source": [
    "# This is the url you will scrape in this exercise \n",
    "# You will need to add the account credentials to this url\n",
    "url = 'https://twitter.com/'"
   ]
  },
  {
   "cell_type": "code",
   "execution_count": null,
   "metadata": {},
   "outputs": [],
   "source": [
    "# your code"
   ]
  },
  {
   "cell_type": "markdown",
   "metadata": {},
   "source": [
    "#### IMDB's Top 250 data (movie name, Initial release, director name and stars) as a pandas dataframe"
   ]
  },
  {
   "cell_type": "code",
   "execution_count": null,
   "metadata": {},
   "outputs": [],
   "source": [
    "# This is the url you will scrape in this exercise \n",
    "url = 'https://www.imdb.com/chart/top'"
   ]
  },
  {
   "cell_type": "code",
   "execution_count": null,
   "metadata": {},
   "outputs": [],
   "source": [
    "# your code"
   ]
  },
  {
   "cell_type": "markdown",
   "metadata": {},
   "source": [
    "#### Movie name, year and a brief summary of the top 10 random movies (IMDB) as a pandas dataframe."
   ]
  },
  {
   "cell_type": "code",
   "execution_count": null,
   "metadata": {},
   "outputs": [],
   "source": [
    "#This is the url you will scrape in this exercise\n",
    "url = 'http://www.imdb.com/chart/top'"
   ]
  },
  {
   "cell_type": "code",
   "execution_count": null,
   "metadata": {},
   "outputs": [],
   "source": [
    "#your code"
   ]
  },
  {
   "cell_type": "markdown",
   "metadata": {},
   "source": [
    "#### Find the live weather report (temperature, wind speed, description and weather) of a given city."
   ]
  },
  {
   "cell_type": "code",
   "execution_count": null,
   "metadata": {},
   "outputs": [],
   "source": [
    "#https://openweathermap.org/current\n",
    "city = city=input('Enter the city:')\n",
    "url = 'http://api.openweathermap.org/data/2.5/weather?'+'q='+city+'&APPID=b35975e18dc93725acb092f7272cc6b8&units=metric'"
   ]
  },
  {
   "cell_type": "code",
   "execution_count": null,
   "metadata": {},
   "outputs": [],
   "source": [
    "# your code"
   ]
  },
  {
   "cell_type": "markdown",
   "metadata": {},
   "source": [
    "#### Book name,price and stock availability as a pandas dataframe."
   ]
  },
  {
   "cell_type": "code",
   "execution_count": null,
   "metadata": {},
   "outputs": [],
   "source": [
    "# This is the url you will scrape in this exercise. \n",
    "# It is a fictional bookstore created to be scraped. \n",
    "url = 'http://books.toscrape.com/'"
   ]
  },
  {
   "cell_type": "code",
   "execution_count": null,
   "metadata": {},
   "outputs": [],
   "source": [
    "#your code"
   ]
  }
 ],
 "metadata": {
  "kernelspec": {
   "display_name": "Python 3",
   "language": "python",
   "name": "python3"
  },
  "language_info": {
   "codemirror_mode": {
    "name": "ipython",
    "version": 3
   },
   "file_extension": ".py",
   "mimetype": "text/x-python",
   "name": "python",
   "nbconvert_exporter": "python",
   "pygments_lexer": "ipython3",
   "version": "3.7.6"
  }
 },
 "nbformat": 4,
 "nbformat_minor": 2
}
